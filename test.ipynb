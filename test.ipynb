{
 "cells": [
  {
   "cell_type": "markdown",
   "id": "ce582e20",
   "metadata": {},
   "source": [
    "# std::map"
   ]
  },
  {
   "cell_type": "code",
   "execution_count": 1,
   "id": "6079040c",
   "metadata": {},
   "outputs": [],
   "source": [
    "std::map<int, int> map_a;"
   ]
  },
  {
   "cell_type": "code",
   "execution_count": 2,
   "id": "d90c5f55",
   "metadata": {},
   "outputs": [],
   "source": [
    "for (int i = 0; i < 10; i++) {\n",
    "    map_a.insert(std::map<int, int>::value_type(i, i));\n",
    "}"
   ]
  },
  {
   "cell_type": "code",
   "execution_count": 3,
   "id": "aba58f39",
   "metadata": {},
   "outputs": [
    {
     "name": "stdout",
     "output_type": "stream",
     "text": [
      "0\n",
      "1\n",
      "2\n",
      "3\n",
      "4\n"
     ]
    }
   ],
   "source": [
    "for (auto it = map_a.begin(); it != map_a.end(); ){\n",
    "    std::cout<< it->first <<std::endl;\n",
    "    //it++;\n",
    "    if (it->first<=3) map_a.erase(it++);\n",
    "    else break;\n",
    "}"
   ]
  },
  {
   "cell_type": "markdown",
   "id": "c97c4dea",
   "metadata": {},
   "source": [
    "# TSpline"
   ]
  },
  {
   "cell_type": "code",
   "execution_count": 4,
   "id": "df12dc2e",
   "metadata": {},
   "outputs": [],
   "source": [
    "TGraph *gr = new TGraph;\n",
    "TCanvas *c1 = new TCanvas;\n",
    "int iPnt = 0;"
   ]
  },
  {
   "cell_type": "code",
   "execution_count": 5,
   "id": "eb102e19",
   "metadata": {},
   "outputs": [],
   "source": [
    "/*\n",
    "    gr->SetPoint(iPnt++,0,0);\n",
    "    gr->SetPoint(iPnt++,10,0);\n",
    "    gr->SetPoint(iPnt++,14,0);\n",
    "    gr->SetPoint(iPnt++,17,0);\n",
    "    gr->SetPoint(iPnt++,19,0);\n",
    "*/\n",
    "    gr->SetPoint(iPnt++,20,0);\n",
    "    gr->SetPoint(iPnt++,30,0.009);\n",
    "    gr->SetPoint(iPnt++,80,0.2);\n",
    "    gr->SetPoint(iPnt++,100,0.4);\n",
    "    gr->SetPoint(iPnt++,140,0.75);\n",
    "    gr->SetPoint(iPnt++,200,1);\n",
    "/*\n",
    "    gr->SetPoint(iPnt++,210,1);\n",
    "    gr->SetPoint(iPnt++,230,1);\n",
    "    gr->SetPoint(iPnt++,260,1);\n",
    "    gr->SetPoint(iPnt++,300,1);\n",
    "*/"
   ]
  },
  {
   "cell_type": "code",
   "execution_count": 6,
   "id": "95e3a1ab",
   "metadata": {},
   "outputs": [],
   "source": [
    "TSpline3 *sp = new TSpline3(\"sp\",gr);"
   ]
  },
  {
   "cell_type": "code",
   "execution_count": 7,
   "id": "28dfa49a",
   "metadata": {},
   "outputs": [
    {
     "data": {
      "image/png": "[encoded data removed]",
      "text/plain": [
       "<IPython.core.display.Image object>"
      ]
     },
     "metadata": {},
     "output_type": "display_data"
    }
   ],
   "source": [
    "sp->Draw();\n",
    "gr->Draw(\"*same\");\n",
    "c1->Draw();"
   ]
  },
  {
   "cell_type": "code",
   "execution_count": 8,
   "id": "e437c7fc",
   "metadata": {},
   "outputs": [
    {
     "name": "stdout",
     "output_type": "stream",
     "text": [
      "0.009\n",
      "0.2\n"
     ]
    }
   ],
   "source": [
    "cout<<sp->Eval(30)<<endl;\n",
    "cout<<sp->Eval(80)<<endl;"
   ]
  },
  {
   "cell_type": "code",
   "execution_count": null,
   "id": "c850d8ab",
   "metadata": {},
   "outputs": [],
   "source": []
  }
 ],
 "metadata": {
  "kernelspec": {
   "display_name": "ROOT C++",
   "language": "c++",
   "name": "root"
  },
  "language_info": {
   "codemirror_mode": "text/x-c++src",
   "file_extension": ".C",
   "mimetype": " text/x-c++src",
   "name": "c++"
  }
 },
 "nbformat": 4,
 "nbformat_minor": 5
}
